{
 "cells": [
  {
   "cell_type": "code",
   "execution_count": 10,
   "metadata": {},
   "outputs": [
    {
     "name": "stdout",
     "output_type": "stream",
     "text": [
      "Yes\n"
     ]
    }
   ],
   "source": [
    "# 1. Python program to check if a string is palindrome or not\n",
    "\n",
    "# Input : malayalam\n",
    "# Output : Yes\n",
    "\n",
    "# Input : geeks\n",
    "# Output : No\n",
    "\n",
    "def palindrome(word):\n",
    "    for i in range(0, int(len(word)/2)):\n",
    "            if word[i] != word[len(word) - i - 1]:\n",
    "                return False\n",
    "    else:\n",
    "        return True\n",
    "        \n",
    "\n",
    "word = 'malayalam'\n",
    "output = palindrome(word)\n",
    "\n",
    "if output:\n",
    "    print(\"Yes\")\n",
    "else:\n",
    "    print(\"No\")"
   ]
  },
  {
   "cell_type": "code",
   "execution_count": 15,
   "metadata": {},
   "outputs": [
    {
     "data": {
      "text/plain": [
       "'code practice quiz geeks'"
      ]
     },
     "execution_count": 15,
     "metadata": {},
     "output_type": "execute_result"
    }
   ],
   "source": [
    "# 2. Reverse words in a given String in Python\n",
    "\n",
    "# Input : str = \"geeks quiz practice code\"\n",
    "# Output : str = \"code practice quiz geeks\"\n",
    "\n",
    "def reverseString(str):\n",
    "    words = str.split(\" \")\n",
    "    \n",
    "    rev_sentence = (\" \").join(reversed(words))\n",
    "    \n",
    "    return rev_sentence\n",
    "\n",
    "str = \"geeks quiz practice code\"\n",
    "\n",
    "reverseString(str)"
   ]
  },
  {
   "cell_type": "code",
   "execution_count": 21,
   "metadata": {},
   "outputs": [
    {
     "name": "stdout",
     "output_type": "stream",
     "text": [
      "Enter the ith character you want to replace :3\n",
      "Using approach 1 : GeesForGeeks\n",
      "Using approach 2 : GeesForGeeks\n"
     ]
    }
   ],
   "source": [
    "# 3. Ways to remove i’th character from string in Python\n",
    "\n",
    "test_str = \"GeeksForGeeks\"\n",
    "\n",
    "n = int(input(\"Enter the ith character you want to replace :\"))\n",
    "\n",
    "new_str = test_str[:n] + test_str[n+1:]\n",
    "print(\"Using approach 1 :\", new_str)\n",
    "\n",
    "# another approach using join\n",
    "newString = ''.join([test_str[i] for i in range(len(test_str)) if i != n])\n",
    "print(\"Using approach 2 :\", newString)\n",
    "\n"
   ]
  },
  {
   "cell_type": "code",
   "execution_count": 3,
   "metadata": {},
   "outputs": [
    {
     "name": "stdout",
     "output_type": "stream",
     "text": [
      "Yes\n"
     ]
    }
   ],
   "source": [
    "# 4. Python | Check if a Substring is Present in a Given String\n",
    "\n",
    "# Input : s1 = geeks s2=geeks for geeks\n",
    "# Output : yes\n",
    "\n",
    "# Input : s1 = geek s2=geeks for geeks\n",
    "# Output : yes\n",
    "\n",
    "def subPresent(s1, s2):\n",
    "    if s1 in s2:\n",
    "        print(\"Yes\")\n",
    "    else:\n",
    "        print(\"No\")\n",
    "    \n",
    "s1 = \"geeks\"\n",
    "s2 = \"geeks for geeks\"\n",
    "\n",
    "subPresent(s1, s2)\n"
   ]
  },
  {
   "cell_type": "code",
   "execution_count": 4,
   "metadata": {},
   "outputs": [
    {
     "data": {
      "text/plain": [
       "13"
      ]
     },
     "execution_count": 4,
     "metadata": {},
     "output_type": "execute_result"
    }
   ],
   "source": [
    "# 5. Find length of a string in python\n",
    "\n",
    "# Input : 'abc'\n",
    "# Output : 3\n",
    "\n",
    "# Input : 'hello world !'\n",
    "# Output : 13\n",
    "\n",
    "# Input : ' h e l   l  o '\n",
    "# Output :14\n",
    "\n",
    "def lengthStr(word):\n",
    "    count = 0\n",
    "    \n",
    "    for i in range(len(word)):\n",
    "        count += 1\n",
    "        \n",
    "    return count\n",
    "\n",
    "word = 'hello world !'\n",
    "\n",
    "lengthStr(word)\n"
   ]
  },
  {
   "cell_type": "code",
   "execution_count": 6,
   "metadata": {},
   "outputs": [
    {
     "name": "stdout",
     "output_type": "stream",
     "text": [
      "['i', 'am', 'muskan']\n",
      "am\n",
      "muskan\n"
     ]
    }
   ],
   "source": [
    "# 6. Python program to print even length words in a string\n",
    "\n",
    "# Input: s = \"This is a python language\"\n",
    "# Output: This\n",
    "#         is\n",
    "#         python\n",
    "#         language \n",
    "\n",
    "# Input: s = \"i am muskan\"\n",
    "# Output: am\n",
    "#         muskan\n",
    "\n",
    "def evenLengthWords(s):\n",
    "    splitWord = s.split(\" \")\n",
    "    print(splitWord)\n",
    "\n",
    "    for i in splitWord:\n",
    "        if len(i) % 2 == 0:\n",
    "            print(i)\n",
    "            \n",
    "s = \"i am muskan\"\n",
    "\n",
    "evenLengthWords(s)\n",
    "        "
   ]
  },
  {
   "cell_type": "code",
   "execution_count": null,
   "metadata": {},
   "outputs": [],
   "source": [
    "# 7. Python | Program to accept the strings which contains all vowels\n",
    "\n",
    "# Input : geeksforgeeks\n",
    "# Output : Not Accepted\n",
    "# All vowels except 'o' are not present\n",
    "\n",
    "\n",
    "# Input : ABeeIghiObhkUul\n",
    "# Output : Accepted\n",
    "# All vowels are present\n",
    "\n",
    "def containsVowels(s):\n",
    "    vowels = ['a', 'e', 'i', 'o', 'u']\n",
    "    \n",
    "    splitWords = s.split(\" \")\n",
    "    \n",
    "    for i in splitWords:\n",
    "        if i"
   ]
  }
 ],
 "metadata": {
  "kernelspec": {
   "display_name": "Python 3",
   "language": "python",
   "name": "python3"
  },
  "language_info": {
   "codemirror_mode": {
    "name": "ipython",
    "version": 3
   },
   "file_extension": ".py",
   "mimetype": "text/x-python",
   "name": "python",
   "nbconvert_exporter": "python",
   "pygments_lexer": "ipython3",
   "version": "3.7.4"
  }
 },
 "nbformat": 4,
 "nbformat_minor": 2
}
