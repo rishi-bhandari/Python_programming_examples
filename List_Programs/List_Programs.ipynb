{
 "cells": [
  {
   "cell_type": "code",
   "execution_count": 4,
   "metadata": {},
   "outputs": [
    {
     "data": {
      "text/plain": [
       "[24, 35, 9, 56, 12]"
      ]
     },
     "execution_count": 4,
     "metadata": {},
     "output_type": "execute_result"
    }
   ],
   "source": [
    "# 1. Python program to interchange first and last elements in a list\n",
    "\n",
    "def swapList(list):\n",
    "    size = len(list)\n",
    "    \n",
    "    temp = list[0]\n",
    "    list[0] = list[size - 1]\n",
    "    list[size - 1] = temp\n",
    "    \n",
    "    return list\n",
    "\n",
    "list = [12, 35, 9, 56, 24]\n",
    "swapList(list)\n"
   ]
  },
  {
   "cell_type": "code",
   "execution_count": 10,
   "metadata": {},
   "outputs": [
    {
     "name": "stdout",
     "output_type": "stream",
     "text": [
      "Enter the two index of elements you want to swap.2 4\n"
     ]
    },
    {
     "data": {
      "text/plain": [
       "[1, 2, 5, 4, 3, 6]"
      ]
     },
     "execution_count": 10,
     "metadata": {},
     "output_type": "execute_result"
    }
   ],
   "source": [
    "# 2. Python program to swap two elements in a list\n",
    "\n",
    "def swapListElements(list):\n",
    "    pos1, pos2 = map(int, input(\"Enter the two index of elements you want to swap.\").split())\n",
    "    \n",
    "    if (len(list) < pos1) or (len(list) < pos2):\n",
    "        print(\"Enter a valid index to swap.\")\n",
    "    \n",
    "    else:\n",
    "        temp = list[pos1]\n",
    "        list[pos1] = list[pos2]\n",
    "        list[pos2] = temp\n",
    "        return list\n",
    "\n",
    "list = [1,2,3,4,5,6]\n",
    "\n",
    "swapListElements(list)"
   ]
  },
  {
   "cell_type": "code",
   "execution_count": 26,
   "metadata": {},
   "outputs": [
    {
     "name": "stdout",
     "output_type": "stream",
     "text": [
      "Enter the Nth index you want to remove.1\n",
      "Enter the word you want to remove.rishi\n",
      "Updated list is ['rahul', 'prikshit']\n"
     ]
    }
   ],
   "source": [
    "# 3. Python program to remove Nth occurrence of the given word\n",
    "\n",
    "# Input: list - [\"geeks\", \"for\", \"geeks\"]\n",
    "# word = geeks, N = 2\n",
    "# Output: list - [\"geeks\", \"for\"]\n",
    "\n",
    "def removeNthOcc(list):\n",
    "    N = int(input(\"Enter the Nth index you want to remove.\"))\n",
    "    word = input(\"Enter the word you want to remove.\")\n",
    "    \n",
    "    count = 0\n",
    "    newList = []\n",
    "    \n",
    "    for i in list:\n",
    "        if i == word:\n",
    "            count = count + 1\n",
    "            if count != N:\n",
    "                newList.append(i)\n",
    "            \n",
    "        else:\n",
    "            newList.append(i)\n",
    "            \n",
    "    list = newList\n",
    "        \n",
    "    if count == 0:\n",
    "        print(\"Value not found.\")\n",
    "    else:\n",
    "        print(\"Updated list is\", list)\n",
    "            \n",
    "list = ['rishi', 'rahul', 'prikshit']\n",
    "removeNthOcc(list)\n",
    "            "
   ]
  },
  {
   "cell_type": "code",
   "execution_count": 29,
   "metadata": {},
   "outputs": [
    {
     "data": {
      "text/plain": [
       "5"
      ]
     },
     "execution_count": 29,
     "metadata": {},
     "output_type": "execute_result"
    }
   ],
   "source": [
    "# 4. Python | Ways to find length of list\n",
    "\n",
    "def lengthOfList(list):\n",
    "    count = 0\n",
    "    for i in list:\n",
    "        count = count + 1 \n",
    "    \n",
    "    return count\n",
    "\n",
    "list = [1, 2, 3, 4, 5]\n",
    "lengthOfList(list)"
   ]
  },
  {
   "cell_type": "code",
   "execution_count": 35,
   "metadata": {},
   "outputs": [
    {
     "name": "stdout",
     "output_type": "stream",
     "text": [
      "Enter the element to check if it exists in the list.4\n",
      "Element 4 exists in the list.\n"
     ]
    }
   ],
   "source": [
    "# 5. Python | Ways to check if element exists in list\n",
    "\n",
    "def elementExists(list):\n",
    "    element = str(input(\"Enter the element to check if it exists in the list.\"))\n",
    "    \n",
    "    for i in str(list):\n",
    "        if i == element:\n",
    "            print(\"Element\", element,\"exists in the list.\")\n",
    "        \n",
    "        \n",
    "list = [1,2,3,4,5,6]\n",
    "elementExists(list)"
   ]
  },
  {
   "cell_type": "code",
   "execution_count": 37,
   "metadata": {},
   "outputs": [
    {
     "name": "stdout",
     "output_type": "stream",
     "text": [
      "GEEK before clear: [6, 0, 4, 1]\n",
      "GEEK after clear: []\n",
      "List1 before deleting is : [1, 2, 3]\n",
      "List1 after clearing using del : []\n"
     ]
    }
   ],
   "source": [
    "# 6. Different ways to clear a list in Python\n",
    "\n",
    "# Creating list \n",
    "GEEK = [6, 0, 4, 1] \n",
    "print('GEEK before clear:', GEEK)  \n",
    "  \n",
    "# Clearing list  \n",
    "GEEK.clear()  \n",
    "print('GEEK after clear:', GEEK)  \n",
    "\n",
    "\n",
    "# Initializing lists \n",
    "list1 = [1, 2, 3] \n",
    "  \n",
    "# Printing list1 before deleting  \n",
    "print (\"List1 before deleting is : \" + str(list1)) \n",
    "  \n",
    "# deleting list1 using del \n",
    "del list1[:] \n",
    "print (\"List1 after clearing using del : \" + str(list1)) "
   ]
  },
  {
   "cell_type": "code",
   "execution_count": 42,
   "metadata": {},
   "outputs": [
    {
     "name": "stdout",
     "output_type": "stream",
     "text": [
      "[5, 4, 3, 2, 1]\n"
     ]
    },
    {
     "data": {
      "text/plain": [
       "[0, 9, 8, 7, 6]"
      ]
     },
     "execution_count": 42,
     "metadata": {},
     "output_type": "execute_result"
    }
   ],
   "source": [
    "# 7. Python | Reversing a List\n",
    "\n",
    "list = [1, 2, 3, 4, 5]\n",
    "\n",
    "list.reverse()\n",
    "print(list)\n",
    "\n",
    "# or we can use this method\n",
    "def reversingList(list):\n",
    "    return [i for i in reversed(list)]\n",
    "\n",
    "list = [6, 7, 8, 9, 0]\n",
    "reversingList(list)"
   ]
  },
  {
   "cell_type": "code",
   "execution_count": 45,
   "metadata": {},
   "outputs": [
    {
     "name": "stdout",
     "output_type": "stream",
     "text": [
      "[1, 2, 3, 4, 5]\n"
     ]
    },
    {
     "data": {
      "text/plain": [
       "[6, 7, 8, 9, 0]"
      ]
     },
     "execution_count": 45,
     "metadata": {},
     "output_type": "execute_result"
    }
   ],
   "source": [
    "# 8. Python | Cloning or Copying a list\n",
    "\n",
    "list = [1, 2, 3, 4, 5]\n",
    "list_copy = list.copy()\n",
    "\n",
    "print(list_copy)\n",
    "\n",
    "\n",
    "#or we can use this method\n",
    "\n",
    "def copyList(list):\n",
    "    \n",
    "    copiedList = []\n",
    "    \n",
    "    for i in list:\n",
    "        copiedList.append(i)\n",
    "    \n",
    "    return copiedList\n",
    "\n",
    "list = [6, 7, 8, 9, 0]\n",
    "copyList(list)"
   ]
  },
  {
   "cell_type": "code",
   "execution_count": 51,
   "metadata": {},
   "outputs": [
    {
     "name": "stdout",
     "output_type": "stream",
     "text": [
      "Enter the element you want ot check.6\n"
     ]
    },
    {
     "data": {
      "text/plain": [
       "1"
      ]
     },
     "execution_count": 51,
     "metadata": {},
     "output_type": "execute_result"
    }
   ],
   "source": [
    "# 9. Python | Count occurrences of an element in a list\n",
    "\n",
    "# Input : lst = [15, 6, 7, 10, 12, 20, 10, 28, 10]\n",
    "#          x = 10\n",
    "# Output : 3 \n",
    "# 10 appears three times in given list.\n",
    "\n",
    "\n",
    "def countOcc(list):\n",
    "    \n",
    "    element = int(input(\"Enter the element you want ot check.\"))\n",
    "    count = 0\n",
    "    \n",
    "    for i in list:\n",
    "        if i == element:\n",
    "            count = count + 1\n",
    "        \n",
    "    return count\n",
    "\n",
    "list = [15, 6, 7, 10, 12, 20, 10, 28, 10]\n",
    "countOcc(list)"
   ]
  },
  {
   "cell_type": "code",
   "execution_count": 53,
   "metadata": {},
   "outputs": [
    {
     "data": {
      "text/plain": [
       "40"
      ]
     },
     "execution_count": 53,
     "metadata": {},
     "output_type": "execute_result"
    }
   ],
   "source": [
    "# 10. Python program to find sum of elements in list\n",
    "\n",
    "# Input: [12, 15, 3, 10]\n",
    "# Output: 40\n",
    "\n",
    "def sumOfElements(list):\n",
    "    sum = 0\n",
    "    \n",
    "    for i in list:\n",
    "        sum = sum + i\n",
    "        \n",
    "    return sum\n",
    "\n",
    "list = [12, 15, 3, 10]\n",
    "sumOfElements(list)"
   ]
  },
  {
   "cell_type": "code",
   "execution_count": 66,
   "metadata": {},
   "outputs": [
    {
     "name": "stdout",
     "output_type": "stream",
     "text": [
      "Enter the number of elements in a list.5\n",
      "Enter a number:1\n",
      "Enter a number:2\n",
      "Enter a number:3\n",
      "Enter a number:4\n",
      "Enter a number:5\n"
     ]
    },
    {
     "data": {
      "text/plain": [
       "120"
      ]
     },
     "execution_count": 66,
     "metadata": {},
     "output_type": "execute_result"
    }
   ],
   "source": [
    "# 11. Python | Multiply all numbers in the list \n",
    "\n",
    "def multiplyElements():\n",
    "    n = int(input(\"Enter the number of elements in a list.\"))\n",
    "    list = []\n",
    "    for i in range(0,n):\n",
    "        number = int(input(\"Enter a number:\"))\n",
    "        list.append(number)\n",
    "    \n",
    "    mult = 1\n",
    "    \n",
    "    for i in list:\n",
    "        mult = mult * i\n",
    "    \n",
    "    return mult\n",
    "\n",
    "multiplyElements()"
   ]
  },
  {
   "cell_type": "code",
   "execution_count": 71,
   "metadata": {},
   "outputs": [
    {
     "name": "stdout",
     "output_type": "stream",
     "text": [
      "List: 9, 8, 7, 6, 5, 4, 3\n",
      "List is:  ['9', ' 8', ' 7', ' 6', ' 5', ' 4', ' 3']\n",
      "Smallest element in the list is :  3\n"
     ]
    }
   ],
   "source": [
    "# 12. Python program to find smallest number in a list\n",
    "\n",
    "\n",
    "def smallestNum():\n",
    "    list = [l for l in input(\"List: \").split(\",\")]\n",
    "    print(\"List is: \", list)\n",
    "    \n",
    "    min = list[0]\n",
    "    \n",
    "    for i in range(len(list)):\n",
    "        if list[i] < min:\n",
    "                   min = list[i]\n",
    "    \n",
    "    print(\"Smallest element in the list is :\", min)\n",
    "    \n",
    "smallestNum()"
   ]
  },
  {
   "cell_type": "code",
   "execution_count": 90,
   "metadata": {},
   "outputs": [
    {
     "name": "stdout",
     "output_type": "stream",
     "text": [
      "Largest element is: 99\n"
     ]
    }
   ],
   "source": [
    "# 13. Python program to find largest number in a list\n",
    "\n",
    "def myMax(list1): \n",
    "  \n",
    "    # Assume first number in list is largest \n",
    "    # initially and assign it to variable \"max\" \n",
    "    max = list1[0] \n",
    "   \n",
    "    # Now traverse through the list and compare  \n",
    "    # each number with \"max\" value. Whichever is  \n",
    "    # largest assign that value to \"max'. \n",
    "    for x in list1: \n",
    "        if x > max : \n",
    "             max = x \n",
    "      \n",
    "    # after complete traversing the list  \n",
    "    # return the \"max\" value \n",
    "    return max\n",
    "  \n",
    "  \n",
    "# Driver code \n",
    "list1 = [10, 20, 4, 45, 99] \n",
    "print(\"Largest element is:\", myMax(list1)) "
   ]
  },
  {
   "cell_type": "code",
   "execution_count": 91,
   "metadata": {},
   "outputs": [
    {
     "name": "stdout",
     "output_type": "stream",
     "text": [
      "Second largest element is: 45\n"
     ]
    }
   ],
   "source": [
    "# 14. Python program to find second largest number in a list\n",
    "  \n",
    "# list of numbers \n",
    "list1 = [10, 20, 4, 45, 99] \n",
    "  \n",
    "# sorting the list \n",
    "list1.sort() \n",
    "  \n",
    "# printing the second last element \n",
    "print(\"Second largest element is:\", list1[-2]) \n"
   ]
  },
  {
   "cell_type": "code",
   "execution_count": 96,
   "metadata": {},
   "outputs": [
    {
     "name": "stdout",
     "output_type": "stream",
     "text": [
      "[85, 41]\n"
     ]
    }
   ],
   "source": [
    "# 15. Python program to find N largest elements from a list\n",
    "\n",
    "# Input : [4, 5, 1, 2, 9] \n",
    "#         N = 2\n",
    "# Output :  [9, 5]\n",
    "\n",
    "def NmaxElements(list, N):\n",
    "    final_list = []\n",
    "    \n",
    "    for i in range(0, N):\n",
    "        max = 0\n",
    "        for j in range(len(list)):\n",
    "            if list[j] > max:\n",
    "                max = list[j]\n",
    "            \n",
    "        list.remove(max)\n",
    "        final_list.append(max)\n",
    "        \n",
    "    print(final_list)\n",
    "    \n",
    "N = 2\n",
    "list = [2, 6, 41, 85, 0, 3, 7, 6, 10]\n",
    "\n",
    "NmaxElements(list, N)"
   ]
  },
  {
   "cell_type": "code",
   "execution_count": 100,
   "metadata": {},
   "outputs": [
    {
     "data": {
      "text/plain": [
       "[2, 64, 14]"
      ]
     },
     "execution_count": 100,
     "metadata": {},
     "output_type": "execute_result"
    }
   ],
   "source": [
    "# 16. Python program to print even numbers in a list\n",
    "\n",
    "# Input: list1 = [2, 7, 5, 64, 14]\n",
    "# Output: [2, 64, 14]\n",
    "\n",
    "def evenNum(list):\n",
    "    even_list = []\n",
    "    for i in list:\n",
    "        if i % 2 == 0:\n",
    "            even_list.append(i)\n",
    "    \n",
    "    return even_list\n",
    "            \n",
    "list = [2, 7, 5, 64, 14]\n",
    "evenNum(list)"
   ]
  },
  {
   "cell_type": "code",
   "execution_count": 102,
   "metadata": {},
   "outputs": [
    {
     "data": {
      "text/plain": [
       "[7, 5]"
      ]
     },
     "execution_count": 102,
     "metadata": {},
     "output_type": "execute_result"
    }
   ],
   "source": [
    "# 17. Python program to print odd numbers in a List\n",
    "\n",
    "# Input: list1 = [2, 7, 5, 64, 14]\n",
    "# Output: [7, 5]\n",
    "\n",
    "def oddNum(list):\n",
    "    \n",
    "    odd_list = []\n",
    "    \n",
    "    for i in list:\n",
    "        if i % 2 != 0:\n",
    "            odd_list.append(i)\n",
    "            \n",
    "    return odd_list\n",
    "\n",
    "\n",
    "list = [2, 7, 5, 64, 14]        \n",
    "oddNum(list)"
   ]
  },
  {
   "cell_type": "code",
   "execution_count": 112,
   "metadata": {},
   "outputs": [
    {
     "name": "stdout",
     "output_type": "stream",
     "text": [
      "Enter the start and end values :4 15\n",
      "4 6 8 10 12 14 "
     ]
    }
   ],
   "source": [
    "# 18. Python program to print all even numbers in a range\n",
    "\n",
    "# Input: start = 4, end = 15\n",
    "# Output: 4, 6, 8, 10, 12, 14\n",
    "\n",
    "start, end = map(int, input(\"Enter the start and end values :\").split())\n",
    "\n",
    "for i in range(start, end+1):\n",
    "    if i % 2 == 0:\n",
    "        print(i, end = \" \")\n",
    "        \n"
   ]
  },
  {
   "cell_type": "code",
   "execution_count": 1,
   "metadata": {},
   "outputs": [
    {
     "name": "stdout",
     "output_type": "stream",
     "text": [
      "Enter the start and end numbers, separated by space :2 10\n",
      "3 5 7 9 "
     ]
    }
   ],
   "source": [
    "# 19. Python program to print all odd numbers in a range\n",
    "\n",
    "def allOddNum():\n",
    "    start, end = map(int, input(\"Enter the start and end numbers, separated by space :\").split())\n",
    "    \n",
    "    for i in range(start, end+1):\n",
    "        if i % 2 != 0:\n",
    "            print(i, end = \" \")\n",
    "            \n",
    "allOddNum()"
   ]
  },
  {
   "cell_type": "code",
   "execution_count": 4,
   "metadata": {},
   "outputs": [
    {
     "name": "stdout",
     "output_type": "stream",
     "text": [
      "Even =  3 , Odd = 2\n"
     ]
    }
   ],
   "source": [
    "# 20. Python program to count Even and Odd numbers in a List\n",
    "\n",
    "# Input: list1 = [2, 7, 5, 64, 14]\n",
    "# Output: Even = 3, odd = 2\n",
    "\n",
    "# Input: list2 = [12, 14, 95, 3]\n",
    "# Output: Even = 2, odd = 2\n",
    "\n",
    "def countEvenOdd(list):\n",
    "    even = 0\n",
    "    odd = 0\n",
    "    \n",
    "    for i in list:\n",
    "        if i % 2 == 0:\n",
    "            even += 1\n",
    "        elif i % 2 != 0:\n",
    "            odd += 1\n",
    "            \n",
    "    print(\"Even = \", even, \", Odd =\", odd)\n",
    "    \n",
    "list1 = [2, 7, 5, 64, 14]\n",
    "countEvenOdd(list1)"
   ]
  },
  {
   "cell_type": "code",
   "execution_count": 7,
   "metadata": {},
   "outputs": [
    {
     "name": "stdout",
     "output_type": "stream",
     "text": [
      "[12, 5, 64]\n"
     ]
    }
   ],
   "source": [
    "# 21. Python program to print positive numbers in a list\n",
    "\n",
    "# Input: list1 = [12, -7, 5, 64, -14]\n",
    "# Output: 12, 5, 64\n",
    "\n",
    "# Input: list2 = [12, 14, -95, 3]\n",
    "# Output: [12, 14, 3]\n",
    "\n",
    "def postiveNum(list):\n",
    "    newList = []\n",
    "    for i in list:\n",
    "        if i > 0:\n",
    "            newList.append(i)\n",
    "    \n",
    "    print(newList)\n",
    "#             print(i, end = \" \")\n",
    "            \n",
    "list1 = [12, -7, 5, 64, -14]\n",
    "postiveNum(list1)"
   ]
  },
  {
   "cell_type": "code",
   "execution_count": 10,
   "metadata": {},
   "outputs": [
    {
     "name": "stdout",
     "output_type": "stream",
     "text": [
      "[-7, -14]\n"
     ]
    }
   ],
   "source": [
    "# 22. Python program to print all negative numbers in a range\n",
    "\n",
    "# Input: list1 = [12, -7, 5, 64, -14]\n",
    "# Output: -7, -14\n",
    "\n",
    "# Input: list2 = [12, 14, -95, 3]\n",
    "# Output: -95\n",
    "\n",
    "\n",
    "def oddNum(list):\n",
    "    oddList = []\n",
    "    for i in list:\n",
    "        if i < 0:\n",
    "            oddList.append(i)\n",
    "    print(oddList)\n",
    "            \n",
    "list1 = [12, -7, 5, 64, -14]\n",
    "oddNum(list1)\n",
    "            "
   ]
  },
  {
   "cell_type": "code",
   "execution_count": 12,
   "metadata": {},
   "outputs": [
    {
     "name": "stdout",
     "output_type": "stream",
     "text": [
      "0 1 2 3 4 5 "
     ]
    }
   ],
   "source": [
    "# 23. Python program to print all positive numbers in a range\n",
    "\n",
    "# Input: start = -4, end = 5\n",
    "# Output: 0, 1, 2, 3, 4, 5 \n",
    "\n",
    "# Input: start = -3, end = 4\n",
    "# Output: 0, 1, 2, 3, 4\n",
    "\n",
    "def posNumRange(start, end):\n",
    "    for i in range(start, end+1):\n",
    "        if i >= 0:\n",
    "            print(i, end = \" \")\n",
    "            \n",
    "start, end = -4, 5\n",
    "posNumRange(start, end)"
   ]
  },
  {
   "cell_type": "code",
   "execution_count": 13,
   "metadata": {},
   "outputs": [
    {
     "name": "stdout",
     "output_type": "stream",
     "text": [
      "-4 -3 -2 -1 "
     ]
    }
   ],
   "source": [
    "# 24. Python program to print all negative numbers in a range\n",
    "\n",
    "def negNumRange(start, end):\n",
    "    for i in range(start, end+1):\n",
    "        if i < 0:\n",
    "            print(i, end = \" \")\n",
    "            \n",
    "start, end = -4, 5\n",
    "negNumRange(start, end)"
   ]
  },
  {
   "cell_type": "code",
   "execution_count": 16,
   "metadata": {},
   "outputs": [
    {
     "name": "stdout",
     "output_type": "stream",
     "text": [
      "pos =  2 , neg =  3\n"
     ]
    }
   ],
   "source": [
    "# 25. Python program to count positive and negative numbers in a list\n",
    "\n",
    "# Input: list1 = [2, -7, 5, -64, -14]\n",
    "# Output: pos = 2, neg = 3\n",
    "\n",
    "# Input: list2 = [-12, 14, 95, 3]\n",
    "# Output: pos = 3, neg = 1\n",
    "\n",
    "def countPosNeg(list):\n",
    "    pos = 0\n",
    "    neg = 0\n",
    "    for i in list:\n",
    "        if i >= 0:\n",
    "            pos += 1\n",
    "        else:\n",
    "            neg += 1\n",
    "            \n",
    "    print(\"pos = \", pos, \", neg = \", neg)\n",
    "    \n",
    "list1 = [2, -7, 5, -64, -14]\n",
    "countPosNeg(list1)"
   ]
  },
  {
   "cell_type": "code",
   "execution_count": 22,
   "metadata": {},
   "outputs": [
    {
     "name": "stdout",
     "output_type": "stream",
     "text": [
      "Remove = [5, 23] , New_List = [11, 17, 18, 50]\n"
     ]
    }
   ],
   "source": [
    "# 26. Remove multiple elements from a list in Python\n",
    "\n",
    "# Input: [12, 15, 3, 10]\n",
    "# Output: Remove = [12, 3], New_List = [15, 10]\n",
    "\n",
    "# Input: [11, 5, 17, 18, 23, 50]\n",
    "# Output: Remove = [1:5], New_list = [11, 50]\n",
    "\n",
    "list1 = [11, 5, 17, 18, 23, 50]\n",
    "newList =[]\n",
    "unwanted_num = [5, 23]\n",
    "\n",
    "list1 = [ele for ele in list1 if ele not in unwanted_num]\n",
    "\n",
    "print(\"Remove =\", unwanted_num, \", New_List =\", list1)\n"
   ]
  },
  {
   "cell_type": "code",
   "execution_count": 25,
   "metadata": {},
   "outputs": [
    {
     "data": {
      "text/plain": [
       "[('ram', '15', '8'), ('laxman', 'sita'), ('krishna', 'akbar', '45'), ('', '')]"
      ]
     },
     "execution_count": 25,
     "metadata": {},
     "output_type": "execute_result"
    }
   ],
   "source": [
    "# 27. Python | Remove empty tuples from a list\n",
    "\n",
    "# Input : tuples = [(), ('ram','15','8'), (), ('laxman', 'sita'), \n",
    "#                   ('krishna', 'akbar', '45'), ('',''),()]\n",
    "# Output : [('ram', '15', '8'), ('laxman', 'sita'), \n",
    "#           ('krishna', 'akbar', '45'), ('', '')]\n",
    "\n",
    "def removeTuples(tuples):\n",
    "    tuples = [t for t in tuples if t]\n",
    "    return tuples\n",
    "\n",
    "\n",
    "tuples = [(), ('ram','15','8'), (), ('laxman', 'sita'), ('krishna', 'akbar', '45'), ('',''),()]\n",
    "removeTuples(tuples)"
   ]
  },
  {
   "cell_type": "code",
   "execution_count": 36,
   "metadata": {},
   "outputs": [
    {
     "name": "stdout",
     "output_type": "stream",
     "text": [
      "[20, 30, -20, 60]\n"
     ]
    }
   ],
   "source": [
    "# 28. Python | Program to print duplicates from a list of integers\n",
    "\n",
    "# Input : list = [10, 20, 30, 20, 20, 30, 40, 50, -20, 60, 60, -20, -20]\n",
    "# Output : output_list = [20, 30, -20, 60]\n",
    "\n",
    "\n",
    "# Input :  list = [-1, 1, -1, 8]\n",
    "# Output : output_list = [-1]\n",
    "\n",
    "def Repeat(x): \n",
    "    _size = len(x) \n",
    "    repeated = [] \n",
    "    for i in range(_size): \n",
    "        k = i + 1\n",
    "        for j in range(k, _size): \n",
    "            if x[i] == x[j] and x[i] not in repeated: \n",
    "                repeated.append(x[i]) \n",
    "    return repeated \n",
    "  \n",
    "# Driver Code \n",
    "list1 = [10, 20, 30, 20, 20, 30, 40,  \n",
    "         50, -20, 60, 60, -20, -20] \n",
    "print (Repeat(list1)) \n",
    "      "
   ]
  },
  {
   "cell_type": "code",
   "execution_count": 39,
   "metadata": {},
   "outputs": [
    {
     "data": {
      "text/plain": [
       "[4, 14, 29, 47, 67]"
      ]
     },
     "execution_count": 39,
     "metadata": {},
     "output_type": "execute_result"
    }
   ],
   "source": [
    "# 29 . Python program to find Cumulative sum of a list\n",
    "\n",
    "# Input : list = [10, 20, 30, 40, 50]\n",
    "# Output : [10, 30, 60, 100, 150]\n",
    "\n",
    "# Input : list = [4, 10, 15, 18, 20]\n",
    "# Output : [4, 14, 29, 47, 67]\n",
    "\n",
    "\n",
    "def cumSum(list):\n",
    "    Output = []\n",
    "    sum = 0\n",
    "    for i in range(len(list)):\n",
    "        sum = sum + list[i]\n",
    "        Output.append(sum)\n",
    "    \n",
    "    return Output\n",
    "\n",
    "list = [4, 10, 15, 18, 20]\n",
    "cumSum(list)\n",
    "        "
   ]
  },
  {
   "cell_type": "code",
   "execution_count": 49,
   "metadata": {},
   "outputs": [
    {
     "name": "stdout",
     "output_type": "stream",
     "text": [
      "[['geeks', 'for', 'geeks', 'like'], ['geeky', 'nerdy', 'geek', 'love'], ['questions', 'words', 'life']]\n"
     ]
    }
   ],
   "source": [
    "# 30. Break a list into chunks of size N in Python\n",
    "\n",
    "# my_list = ['geeks', 'for', 'geeks', 'like', \n",
    "#            'geeky','nerdy', 'geek', 'love', \n",
    "#                'questions','words', 'life'] \n",
    "\n",
    "# output = [['geeks', 'for', 'geeks', 'like', 'geeky'], \n",
    "#  ['nerdy', 'geek', 'love', 'questions', 'words'], \n",
    "#  ['life']]\n",
    "\n",
    "# n = 5\n",
    "\n",
    "l = ['geeks', 'for', 'geeks', 'like', \n",
    "           'geeky','nerdy', 'geek', 'love', \n",
    "               'questions','words', 'life'] \n",
    "   \n",
    "n = 4\n",
    "\n",
    "x = [l[i:i+n] for i in range(0, len(l), n)]\n",
    "print(x)\n",
    "\n"
   ]
  },
  {
   "cell_type": "code",
   "execution_count": 50,
   "metadata": {},
   "outputs": [
    {
     "name": "stdout",
     "output_type": "stream",
     "text": [
      "['a', 'd', 'h', 'b', 'c', 'e', 'i', 'f', 'g']\n"
     ]
    }
   ],
   "source": [
    "# 31. Python | Sort the values of first list using second list\n",
    "\n",
    "# Input : list1 = [\"a\", \"b\", \"c\", \"d\", \"e\", \"f\", \"g\", \"h\", \"i\"]\n",
    "#         list2 = [ 0,   1,   1,    0,   1,   2,   2,   0,   1]\n",
    "\n",
    "# Output :['a', 'd', 'h', 'b', 'c', 'e', 'i', 'f', 'g']\n",
    "\n",
    "def sort_list(list1, list2): \n",
    "  \n",
    "    zipped_pairs = zip(list2, list1) \n",
    "  \n",
    "    z = [x for _, x in sorted(zipped_pairs)] \n",
    "      \n",
    "    return z \n",
    "      \n",
    "  \n",
    "# driver code \n",
    "x = [\"a\", \"b\", \"c\", \"d\", \"e\", \"f\", \"g\", \"h\", \"i\"] \n",
    "y = [ 0,   1,   1,    0,   1,   2,   2,   0,   1] \n",
    "  \n",
    "print(sort_list(x, y)) "
   ]
  },
  {
   "cell_type": "code",
   "execution_count": null,
   "metadata": {},
   "outputs": [],
   "source": []
  }
 ],
 "metadata": {
  "kernelspec": {
   "display_name": "Python 3",
   "language": "python",
   "name": "python3"
  },
  "language_info": {
   "codemirror_mode": {
    "name": "ipython",
    "version": 3
   },
   "file_extension": ".py",
   "mimetype": "text/x-python",
   "name": "python",
   "nbconvert_exporter": "python",
   "pygments_lexer": "ipython3",
   "version": "3.7.4"
  }
 },
 "nbformat": 4,
 "nbformat_minor": 2
}
