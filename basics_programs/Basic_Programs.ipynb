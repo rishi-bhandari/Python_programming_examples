{
 "cells": [
  {
   "cell_type": "code",
   "execution_count": 5,
   "metadata": {},
   "outputs": [
    {
     "name": "stdout",
     "output_type": "stream",
     "text": [
      "Enter the first number : 10\n",
      "Enter the second number :20\n",
      "Sum of 10.0 and 20.0 is 30.0\n"
     ]
    }
   ],
   "source": [
    "## 1. Python program to add two numbers\n",
    "\n",
    "a = float(input(\"Enter the first number : \"))\n",
    "b = float(input(\"Enter the second number :\"))\n",
    "\n",
    "sum = a + b\n",
    "print(\"Sum of {} and {} is {}\". format(a, b, sum))"
   ]
  },
  {
   "cell_type": "code",
   "execution_count": 15,
   "metadata": {},
   "outputs": [
    {
     "name": "stdout",
     "output_type": "stream",
     "text": [
      "Enter a number : 5\n",
      "Fact of 5 is : 120\n"
     ]
    }
   ],
   "source": [
    "## 2. Python Program for factorial of a number\n",
    "\n",
    "def fact(n):\n",
    "    if n < 0:\n",
    "        return 0\n",
    "    elif n == 0 or n == 1:\n",
    "        return 1\n",
    "    else:\n",
    "        fact = 1\n",
    "        while(n > 1):\n",
    "            fact = fact * n\n",
    "            n = n -1\n",
    "        return fact\n",
    "    \n",
    "num = int(input(\"Enter a number : \"))\n",
    "print(\"Fact of\", num, \"is :\", fact(num))"
   ]
  },
  {
   "cell_type": "code",
   "execution_count": 22,
   "metadata": {},
   "outputs": [
    {
     "name": "stdout",
     "output_type": "stream",
     "text": [
      "Enter the principal amount : 10000\n",
      "Enter the rate of interest : 5\n",
      "Enter the time in years : 5\n",
      "The principal amount is: 10000.0\n",
      "The rate of interest is: 5.0\n",
      "The time in years is: 5.0\n",
      "Simple Interest is : 2500.0\n"
     ]
    },
    {
     "data": {
      "text/plain": [
       "2500.0"
      ]
     },
     "execution_count": 22,
     "metadata": {},
     "output_type": "execute_result"
    }
   ],
   "source": [
    "## 3. Python Program for simple interest\n",
    "\n",
    "# SI = (P * R * T) / 100\n",
    "def simple_interest(P, R, T):\n",
    "    print(\"The principal amount is:\", P)\n",
    "    print(\"The rate of interest is:\", R)\n",
    "    print(\"The time in years is:\", T)\n",
    "    \n",
    "    SI = (P * R * T)/100\n",
    "    \n",
    "    print(\"Simple Interest is :\", SI)\n",
    "    return SI\n",
    "\n",
    "P = float(input(\"Enter the principal amount : \"))\n",
    "R = float(input(\"Enter the rate of interest : \"))\n",
    "T = float(input(\"Enter the time in years : \"))\n",
    "\n",
    "simple_interest(P, R, T)"
   ]
  },
  {
   "cell_type": "code",
   "execution_count": 29,
   "metadata": {},
   "outputs": [
    {
     "name": "stdout",
     "output_type": "stream",
     "text": [
      "Principal amount =  10000\n",
      "Rate of interest =  10.25\n",
      "Time duration in years =  5\n",
      "Compound Interest =  6288.946267774416\n"
     ]
    }
   ],
   "source": [
    "## 4. Python Program for compound interest\n",
    "\n",
    "def amount(p, r, t):\n",
    "    print(\"Principal amount = \", p)\n",
    "    print(\"Rate of interest = \", r)\n",
    "    print(\"Time duration in years = \", t)\n",
    "    \n",
    "    A = p * (pow((1 + r/100), t))\n",
    "    \n",
    "    Compound_Interest = A - p\n",
    "    print(\"Compound Interest = \", Compound_Interest)\n",
    "    \n",
    "amount(10000, 10.25, 5)"
   ]
  },
  {
   "cell_type": "code",
   "execution_count": 36,
   "metadata": {},
   "outputs": [
    {
     "name": "stdout",
     "output_type": "stream",
     "text": [
      "Enter a number to check if it's Armstrong or not.1634\n",
      "1634 is an Armstrong number.\n"
     ]
    }
   ],
   "source": [
    "## 5. Python Program to check Armstrong Number\n",
    "\n",
    "## 153 is an Armstrong number.\n",
    "## 1*1*1 + 5*5*5 + 3*3*3 = 153\n",
    "\n",
    "## 1253 is not a Armstrong Number\n",
    "## 1*1*1*1 + 2*2*2*2 + 5*5*5*5 + 3*3*3*3 = 723\n",
    "\n",
    "# taking input from user\n",
    "num = int(input(\"Enter a number to check if it's Armstrong or not.\"))\n",
    "\n",
    "#to make it suitable for all cases.\n",
    "order = len(str(num))\n",
    "\n",
    "# initialise the sum to be 0\n",
    "sum = 0\n",
    "\n",
    "# declare a temp variable equal to num\n",
    "temp = num\n",
    "\n",
    "while(temp > 0):\n",
    "    digit = temp % 10\n",
    "    sum = sum + (digit)**order\n",
    "    temp = temp // 10\n",
    "    \n",
    "if num == sum:\n",
    "    print(\"{} is an Armstrong number.\".format(num))\n",
    "\n",
    "else:\n",
    "    print(\"{} is not an Armstrong number.\".format(num))"
   ]
  },
  {
   "cell_type": "code",
   "execution_count": 39,
   "metadata": {},
   "outputs": [
    {
     "name": "stdout",
     "output_type": "stream",
     "text": [
      "Enter the radius: 5\n",
      "Area of circle :  78.5\n"
     ]
    }
   ],
   "source": [
    "# 6. Python Program to find area of a circle\n",
    "\n",
    "# Area of circle = pi * r**2\n",
    "\n",
    "def area_of_circle(r):\n",
    "    pi = 3.14\n",
    "    area = pi*(r)**2\n",
    "    return area\n",
    "\n",
    "radius = float(input(\"Enter the radius: \"))\n",
    "print(\"Area of circle : \", area_of_circle(radius))\n"
   ]
  },
  {
   "cell_type": "code",
   "execution_count": 46,
   "metadata": {},
   "outputs": [
    {
     "name": "stdout",
     "output_type": "stream",
     "text": [
      "Enter first number: 11\n",
      "Enter second number: 25\n",
      "11 is a prime number.\n",
      "13 is a prime number.\n",
      "17 is a prime number.\n",
      "19 is a prime number.\n",
      "23 is a prime number.\n"
     ]
    }
   ],
   "source": [
    "# 7. Python program to print all Prime numbers in an Interval\n",
    "\n",
    "# Given two positive integer start and end. The task is to write a Python program to\n",
    "# print all Prime numbers in an Interval.\n",
    "\n",
    "def find_prime_numbers(a, b):\n",
    "    for num in range(a, b+1):\n",
    "        if num > 1:\n",
    "            for i in range(2, num):\n",
    "                if (num % i) == 0:\n",
    "                    break\n",
    "            else:\n",
    "                print(\"{} is a prime number.\".format(num))\n",
    "\n",
    "a = int(input(\"Enter first number: \"))\n",
    "b = int(input(\"Enter second number: \"))\n",
    "\n",
    "find_prime_numbers(a, b)"
   ]
  },
  {
   "cell_type": "code",
   "execution_count": 61,
   "metadata": {},
   "outputs": [
    {
     "name": "stdout",
     "output_type": "stream",
     "text": [
      "Enter a number to check if it's prime or not.103\n",
      "103 is a prime number.\n"
     ]
    }
   ],
   "source": [
    "# 8. Python program to check whether a number is Prime or not\n",
    "\n",
    "def check_prime_number(num):\n",
    "    if num > 1:\n",
    "        for i in range(2, num):\n",
    "            if (num % i) == 0:\n",
    "                print(\"{} is not a prime number.\".format(num))\n",
    "                break\n",
    "        else:\n",
    "            print(\"{} is a prime number.\".format(num))\n",
    "    else:\n",
    "        print(\"{} is not a prime number.\".fromat(num))\n",
    "\n",
    "num = int(input(\"Enter a number to check if it's prime or not.\"))\n",
    "\n",
    "check_prime_number(num)"
   ]
  },
  {
   "cell_type": "code",
   "execution_count": 5,
   "metadata": {},
   "outputs": [
    {
     "name": "stdout",
     "output_type": "stream",
     "text": [
      "Enter a positive integer :5\n",
      "0\n",
      "1\n",
      "1\n",
      "2\n",
      "3\n"
     ]
    }
   ],
   "source": [
    "# 9. Python Program for n-th Fibonacci number\n",
    "\n",
    "def fibonacci(num):\n",
    "    n1, n2 = 0, 1\n",
    "    count = 0\n",
    "    \n",
    "    if num <= 0:\n",
    "        print(\"Enter a positive integer.\")\n",
    "    elif num == 1:\n",
    "        print(\"Fibonacci series is : \", n1)\n",
    "    else:\n",
    "        while count < num:\n",
    "            print(n1)\n",
    "            # swapping values\n",
    "            nth = n1 + n2\n",
    "            n1 = n2\n",
    "            n2 = nth\n",
    "            count += 1\n",
    "\n",
    "num = int(input(\"Enter a positive integer :\"))\n",
    "fibonacci(num)  "
   ]
  },
  {
   "cell_type": "code",
   "execution_count": 19,
   "metadata": {},
   "outputs": [
    {
     "name": "stdout",
     "output_type": "stream",
     "text": [
      "Enter a positive integer : 9\n",
      "9 th term of fibonacci series is : 21\n"
     ]
    }
   ],
   "source": [
    "# 10. Python Program for Fibonacci numbers\n",
    "# Find the nth term of fibonacci series.\n",
    "\n",
    "def sum_fibonacci(num):\n",
    "    n1, n2 = 0, 1\n",
    "    count = 0\n",
    "    \n",
    "    if num <= 0:\n",
    "        print(\"Please enter a positive integer value.\")\n",
    "    elif num == 1:\n",
    "        print(\"Nth term of fibanacci series is:\", n1)\n",
    "    else:\n",
    "        for i in range(num-2):\n",
    "            new_fib = n1 + n2\n",
    "            n1 = n2\n",
    "            n2 = new_fib\n",
    "        print(num,\"th term of fibonacci series is :\", n2)\n",
    "        \n",
    "num = int(input(\"Enter a positive integer : \"))\n",
    "sum_fibonacci(num)"
   ]
  },
  {
   "cell_type": "code",
   "execution_count": 21,
   "metadata": {},
   "outputs": [
    {
     "name": "stdout",
     "output_type": "stream",
     "text": [
      "Enter the number :11\n",
      "1 is a fibonacci number.\n",
      "2 is a fibonacci number.\n",
      "3 is a fibonacci number.\n",
      "4 is not a fibonacci number.\n",
      "5 is a fibonacci number.\n",
      "6 is not a fibonacci number.\n",
      "7 is not a fibonacci number.\n",
      "8 is a fibonacci number.\n",
      "9 is not a fibonacci number.\n",
      "10 is not a fibonacci number.\n",
      "11 is not a fibonacci number.\n"
     ]
    }
   ],
   "source": [
    "# 11. Python Program to check if a given number is Fibonacci number? \n",
    "\n",
    "# A number is Fibonacci if and only if one or both of (5*n2 + 4) or (5*n2 – 4) is a perfect square.\n",
    "\n",
    "import math\n",
    "\n",
    "def isPerfectSquare(x):\n",
    "    s = int(math.sqrt(x))\n",
    "    return s*s == x\n",
    "\n",
    "def isFibanacci(n):\n",
    "    return isPerfectSquare(5*n*n + 4) or isPerfectSquare(5*n*n - 4)\n",
    "\n",
    "num = int(input(\"Enter the number :\"))\n",
    "for i in range(1, num+1):\n",
    "    if(isFibanacci(i) == True):\n",
    "        print(i, \"is a fibonacci number.\")\n",
    "    else:\n",
    "        print(i, \"is not a fibonacci number.\")"
   ]
  },
  {
   "cell_type": "code",
   "execution_count": 32,
   "metadata": {},
   "outputs": [
    {
     "name": "stdout",
     "output_type": "stream",
     "text": [
      "Enter nth value :5\n",
      "Enter kth value :4\n",
      "Position of 5 th multiple of 4 in Fibonacci Series is 30\n"
     ]
    }
   ],
   "source": [
    "# 12. Python Program for nth multiple of a number in Fibonacci Series\n",
    "\n",
    "# Given two integers n and k. Find position the n\\’th multiple of K in the Fibonacci series.\n",
    "\n",
    "def findPosition(k, n): \n",
    "    f1 = 0\n",
    "    f2 = 1\n",
    "    i =2;  \n",
    "    \n",
    "    while i!=0: \n",
    "        f3 = f1 + f2; \n",
    "        f1 = f2; \n",
    "        f2 = f3; \n",
    "  \n",
    "        if f2%k == 0: \n",
    "            return n*i \n",
    "        i+=1     \n",
    "    return \n",
    "   \n",
    "n = int(input(\"Enter nth value :\") )\n",
    "# Number of whose multiple we are finding \n",
    "k = int(input(\"Enter kth value :\") )\n",
    "  \n",
    "print(\"Position of\", n,\"th multiple of\",k,\"in Fibonacci Series is\", findPosition(k,n)); "
   ]
  },
  {
   "cell_type": "code",
   "execution_count": 36,
   "metadata": {},
   "outputs": [
    {
     "name": "stdout",
     "output_type": "stream",
     "text": [
      "Enter an input character a\n",
      "ASCII value of input character * a * is: 97\n"
     ]
    }
   ],
   "source": [
    "# 13. Program to print ASCII Value of a character\n",
    "\n",
    "# For this problem we'll use ord() function in Python accepts a string of length 1 as an argument and returns\n",
    "# the unicode code point representation of the passed argument.\n",
    "\n",
    "char = input(\"Enter an input character \")\n",
    "\n",
    "print(\"ASCII value of input character *\",char,\"* is:\", ord(char))"
   ]
  },
  {
   "cell_type": "code",
   "execution_count": 4,
   "metadata": {},
   "outputs": [
    {
     "name": "stdout",
     "output_type": "stream",
     "text": [
      "Enter number : 4\n"
     ]
    },
    {
     "data": {
      "text/plain": [
       "30"
      ]
     },
     "execution_count": 4,
     "metadata": {},
     "output_type": "execute_result"
    }
   ],
   "source": [
    "# 14. Python Program for Sum of squares of first n natural numbers\n",
    "\n",
    "def sum_of_square(n) : \n",
    "  \n",
    "    # Iterate i from 1  \n",
    "    # and n finding  \n",
    "    # square of i and \n",
    "    # add to sum. \n",
    "    sum = 0\n",
    "    for i in range(1, n+1) : \n",
    "        sum = sum + (i * i) \n",
    "      \n",
    "    return sum \n",
    "  \n",
    "n = int(input(\"Enter number : \"))\n",
    "sum_of_square(n)"
   ]
  },
  {
   "cell_type": "code",
   "execution_count": 5,
   "metadata": {},
   "outputs": [
    {
     "name": "stdout",
     "output_type": "stream",
     "text": [
      "Enter number : 5\n"
     ]
    },
    {
     "data": {
      "text/plain": [
       "225"
      ]
     },
     "execution_count": 5,
     "metadata": {},
     "output_type": "execute_result"
    }
   ],
   "source": [
    "# 15. Python Program for cube sum of first n natural numbers\n",
    "\n",
    "def sum_of_cube(n):\n",
    "    sum = 0\n",
    "    \n",
    "    for i in range(0, n+1):\n",
    "        sum = sum + (i*i*i)\n",
    "        \n",
    "    return sum\n",
    "\n",
    "num = int(input(\"Enter number : \"))\n",
    "sum_of_cube(num)"
   ]
  }
 ],
 "metadata": {
  "kernelspec": {
   "display_name": "Python 3",
   "language": "python",
   "name": "python3"
  },
  "language_info": {
   "codemirror_mode": {
    "name": "ipython",
    "version": 3
   },
   "file_extension": ".py",
   "mimetype": "text/x-python",
   "name": "python",
   "nbconvert_exporter": "python",
   "pygments_lexer": "ipython3",
   "version": "3.7.4"
  }
 },
 "nbformat": 4,
 "nbformat_minor": 2
}
